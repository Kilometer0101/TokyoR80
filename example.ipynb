---
title: "Random number generation"
author: "km"
date: "2019/7/19"
output: 
  html_document: 
    keep_md: TRUE
---





## uniform distribution

### in R


```r
seed <- 71
N <- 100

unif_R <- runif(N)

unif_R %>% head(10)
unif_R %>% mean()
```


### in Numpy


```python
import numpy as np

seed = int(r.seed)
N = int(r.N)

np.random.seed(seed=seed)
unif_np = np.random.rand(N)

unif_np[:10]
np.mean(unif_np)
```

### in random (python)


```python
import random

random.seed(seed)

unif_rd = np.array([random.random() for i in range(N)])

unif_rd[:10]
np.mean(unif_rd)
```


### in R with imported python random pkg


```r
rd <- import("random")
rd$seed(seed)
map_dbl(1:N, ~rd$random()) %>% head(10)
```

### in R

```r
set.seed(71)
runif(10, 0, 1)
```

### in Python with Pyper


```python
import pyper

r = pyper.R()
r("set.seed(71); unif_r <- runif(10, 0, 1)")

result = r.get("unif_r")
result
```






----

----

### ex.env.


```r
py_config()$version
py_config()$numpy$version
sessioninfo::session_info()
```
